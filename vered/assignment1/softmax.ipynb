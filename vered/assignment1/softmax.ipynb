{
  "nbformat": 4,
  "nbformat_minor": 0,
  "metadata": {
    "colab": {
      "name": "softmax.ipynb",
      "version": "0.3.2",
      "provenance": [],
      "collapsed_sections": [],
      "toc_visible": true
    },
    "kernelspec": {
      "name": "python2",
      "display_name": "Python 2"
    },
    "accelerator": "GPU"
  },
  "cells": [
    {
      "metadata": {
        "id": "rihogLQZb0Fj",
        "colab_type": "text"
      },
      "cell_type": "markdown",
      "source": [
        "# Softmax exercise\n",
        "\n",
        "*Complete and hand in this completed worksheet (including its outputs and any supporting code outside of the worksheet) with your assignment submission. For more details see the [assignments page](http://vision.stanford.edu/teaching/cs231n/assignments.html) on the course website.*\n",
        "\n",
        "This exercise is analogous to the SVM exercise. You will:\n",
        "\n",
        "- implement a fully-vectorized **loss function** for the Softmax classifier\n",
        "- implement the fully-vectorized expression for its **analytic gradient**\n",
        "- **check your implementation** with numerical gradient\n",
        "- use a validation set to **tune the learning rate and regularization** strength\n",
        "- **optimize** the loss function with **SGD**\n",
        "- **visualize** the final learned weights\n"
      ]
    },
    {
      "metadata": {
        "id": "HxTYwmqCcNGc",
        "colab_type": "code",
        "outputId": "2282fd64-9092-427d-b4a5-34a2569ddb7f",
        "colab": {
          "base_uri": "https://localhost:8080/",
          "height": 2077
        }
      },
      "cell_type": "code",
      "source": [
        "#Copied from https://github.com/cynicaldevil/cs231n-solutions/blob/master/assignment1/knn.ipynb\n",
        "!rm -rf DeepLearningComputerVision-master\n",
        "!wget https://github.com/ayelet11/DeepLearningComputerVision/archive/master.zip\n",
        "!unzip master.zip\n",
        "!rm master.zip\n",
        "!cd ./DeepLearningComputerVision-master/vered/assignment1 && ls\n",
        "\n",
        "!cd DeepLearningComputerVision-master/vered/assignment1/cs231n/datasets && bash get_datasets.sh && ls"
      ],
      "execution_count": 0,
      "outputs": [
        {
          "output_type": "stream",
          "text": [
            "--2019-02-21 11:45:48--  https://github.com/ayelet11/DeepLearningComputerVision/archive/master.zip\n",
            "Resolving github.com (github.com)... 192.30.253.113, 192.30.253.112\n",
            "Connecting to github.com (github.com)|192.30.253.113|:443... connected.\n",
            "HTTP request sent, awaiting response... 302 Found\n",
            "Location: https://codeload.github.com/ayelet11/DeepLearningComputerVision/zip/master [following]\n",
            "--2019-02-21 11:45:48--  https://codeload.github.com/ayelet11/DeepLearningComputerVision/zip/master\n",
            "Resolving codeload.github.com (codeload.github.com)... 192.30.253.121, 192.30.253.120\n",
            "Connecting to codeload.github.com (codeload.github.com)|192.30.253.121|:443... connected.\n",
            "HTTP request sent, awaiting response... 200 OK\n",
            "Length: unspecified [application/zip]\n",
            "Saving to: ‘master.zip’\n",
            "\n",
            "master.zip              [  <=>               ]   1.07M  2.79MB/s    in 0.4s    \n",
            "\n",
            "2019-02-21 11:45:49 (2.79 MB/s) - ‘master.zip’ saved [1118135]\n",
            "\n",
            "Archive:  master.zip\n",
            "eb827fdf689e2caed54f0c2c10d1abd6101718f8\n",
            "   creating: DeepLearningComputerVision-master/\n",
            "   creating: DeepLearningComputerVision-master/.ipynb_checkpoints/\n",
            "  inflating: DeepLearningComputerVision-master/.ipynb_checkpoints/Untitled-checkpoint.ipynb  \n",
            "   creating: DeepLearningComputerVision-master/.vscode/\n",
            "  inflating: DeepLearningComputerVision-master/.vscode/launch.json  \n",
            "   creating: DeepLearningComputerVision-master/Victor/\n",
            "   creating: DeepLearningComputerVision-master/Victor/Assignment1/\n",
            " extracting: DeepLearningComputerVision-master/Victor/Assignment1/.gitignore  \n",
            "   creating: DeepLearningComputerVision-master/Victor/Assignment1/.ipynb_checkpoints/\n",
            "  inflating: DeepLearningComputerVision-master/Victor/Assignment1/.ipynb_checkpoints/Python Numpy Tutorial-checkpoint.ipynb  \n",
            "  inflating: DeepLearningComputerVision-master/Victor/Assignment1/.ipynb_checkpoints/knn-checkpoint.ipynb  \n",
            "  inflating: DeepLearningComputerVision-master/Victor/Assignment1/.ipynb_checkpoints/softmax-checkpoint.ipynb  \n",
            "  inflating: DeepLearningComputerVision-master/Victor/Assignment1/.ipynb_checkpoints/svm-checkpoint.ipynb  \n",
            "  inflating: DeepLearningComputerVision-master/Victor/Assignment1/Python Numpy Tutorial.ipynb  \n",
            "  inflating: DeepLearningComputerVision-master/Victor/Assignment1/README.md  \n",
            "  inflating: DeepLearningComputerVision-master/Victor/Assignment1/collectSubmission.sh  \n",
            "   creating: DeepLearningComputerVision-master/Victor/Assignment1/cs231n/\n",
            "   creating: DeepLearningComputerVision-master/Victor/Assignment1/cs231n/classifiers/\n",
            "  inflating: DeepLearningComputerVision-master/Victor/Assignment1/cs231n/classifiers/__init__.py  \n",
            "  inflating: DeepLearningComputerVision-master/Victor/Assignment1/cs231n/classifiers/k_nearest_neighbor.py  \n",
            "  inflating: DeepLearningComputerVision-master/Victor/Assignment1/cs231n/classifiers/linear_classifier.py  \n",
            "  inflating: DeepLearningComputerVision-master/Victor/Assignment1/cs231n/classifiers/linear_svm.py  \n",
            "  inflating: DeepLearningComputerVision-master/Victor/Assignment1/cs231n/classifiers/neural_net.py  \n",
            "  inflating: DeepLearningComputerVision-master/Victor/Assignment1/cs231n/classifiers/softmax.py  \n",
            "  inflating: DeepLearningComputerVision-master/Victor/Assignment1/cs231n/data_utils.py  \n",
            "   creating: DeepLearningComputerVision-master/Victor/Assignment1/cs231n/datasets/\n",
            "  inflating: DeepLearningComputerVision-master/Victor/Assignment1/cs231n/datasets/.gitignore  \n",
            "  inflating: DeepLearningComputerVision-master/Victor/Assignment1/cs231n/datasets/get_datasets.sh  \n",
            "  inflating: DeepLearningComputerVision-master/Victor/Assignment1/cs231n/features.py  \n",
            "  inflating: DeepLearningComputerVision-master/Victor/Assignment1/cs231n/gradient_check.py  \n",
            "  inflating: DeepLearningComputerVision-master/Victor/Assignment1/cs231n/vis_utils.py  \n",
            "  inflating: DeepLearningComputerVision-master/Victor/Assignment1/features.ipynb  \n",
            "  inflating: DeepLearningComputerVision-master/Victor/Assignment1/frameworkpython  \n",
            "  inflating: DeepLearningComputerVision-master/Victor/Assignment1/knn.ipynb  \n",
            "  inflating: DeepLearningComputerVision-master/Victor/Assignment1/requirements.txt  \n",
            "  inflating: DeepLearningComputerVision-master/Victor/Assignment1/setup_googlecloud.sh  \n",
            "  inflating: DeepLearningComputerVision-master/Victor/Assignment1/softmax.ipynb  \n",
            "  inflating: DeepLearningComputerVision-master/Victor/Assignment1/start_ipython_osx.sh  \n",
            "  inflating: DeepLearningComputerVision-master/Victor/Assignment1/svm.ipynb  \n",
            "  inflating: DeepLearningComputerVision-master/Victor/Assignment1/two_layer_net.ipynb  \n",
            "   creating: DeepLearningComputerVision-master/vered/\n",
            "   creating: DeepLearningComputerVision-master/vered/assignment1/\n",
            "  inflating: DeepLearningComputerVision-master/vered/assignment1/README.md  \n",
            "  inflating: DeepLearningComputerVision-master/vered/assignment1/collectSubmission.sh  \n",
            "   creating: DeepLearningComputerVision-master/vered/assignment1/cs231n/\n",
            " extracting: DeepLearningComputerVision-master/vered/assignment1/cs231n/__init__.py  \n",
            "  inflating: DeepLearningComputerVision-master/vered/assignment1/cs231n/__init__.pyc  \n",
            "   creating: DeepLearningComputerVision-master/vered/assignment1/cs231n/classifiers/\n",
            "  inflating: DeepLearningComputerVision-master/vered/assignment1/cs231n/classifiers/__init__.py  \n",
            "  inflating: DeepLearningComputerVision-master/vered/assignment1/cs231n/classifiers/__init__.pyc  \n",
            "  inflating: DeepLearningComputerVision-master/vered/assignment1/cs231n/classifiers/k_nearest_neighbor.py  \n",
            "  inflating: DeepLearningComputerVision-master/vered/assignment1/cs231n/classifiers/k_nearest_neighbor.pyc  \n",
            "  inflating: DeepLearningComputerVision-master/vered/assignment1/cs231n/classifiers/linear_classifier.py  \n",
            "  inflating: DeepLearningComputerVision-master/vered/assignment1/cs231n/classifiers/linear_svm.py  \n",
            "  inflating: DeepLearningComputerVision-master/vered/assignment1/cs231n/classifiers/neural_net.py  \n",
            "  inflating: DeepLearningComputerVision-master/vered/assignment1/cs231n/classifiers/softmax.py  \n",
            "  inflating: DeepLearningComputerVision-master/vered/assignment1/cs231n/data_utils.py  \n",
            "  inflating: DeepLearningComputerVision-master/vered/assignment1/cs231n/data_utils.pyc  \n",
            "   creating: DeepLearningComputerVision-master/vered/assignment1/cs231n/datasets/\n",
            "   creating: DeepLearningComputerVision-master/vered/assignment1/cs231n/datasets/cifar-10-batches-py/\n",
            "  inflating: DeepLearningComputerVision-master/vered/assignment1/cs231n/datasets/cifar-10-batches-py/batches.meta  \n",
            " extracting: DeepLearningComputerVision-master/vered/assignment1/cs231n/datasets/cifar-10-batches-py/readme.html  \n",
            "  inflating: DeepLearningComputerVision-master/vered/assignment1/cs231n/datasets/get_datasets.sh  \n",
            "  inflating: DeepLearningComputerVision-master/vered/assignment1/cs231n/features.py  \n",
            "  inflating: DeepLearningComputerVision-master/vered/assignment1/cs231n/gradient_check.py  \n",
            "  inflating: DeepLearningComputerVision-master/vered/assignment1/cs231n/vis_utils.py  \n",
            "  inflating: DeepLearningComputerVision-master/vered/assignment1/features.ipynb  \n",
            "  inflating: DeepLearningComputerVision-master/vered/assignment1/frameworkpython  \n",
            "  inflating: DeepLearningComputerVision-master/vered/assignment1/knn.ipynb  \n",
            "  inflating: DeepLearningComputerVision-master/vered/assignment1/requirements.txt  \n",
            "  inflating: DeepLearningComputerVision-master/vered/assignment1/requirements_backup.txt  \n",
            "  inflating: DeepLearningComputerVision-master/vered/assignment1/setup_googlecloud.sh  \n",
            "  inflating: DeepLearningComputerVision-master/vered/assignment1/softmax.ipynb  \n",
            "  inflating: DeepLearningComputerVision-master/vered/assignment1/start_ipython_osx.sh  \n",
            "  inflating: DeepLearningComputerVision-master/vered/assignment1/svm.ipynb  \n",
            "  inflating: DeepLearningComputerVision-master/vered/assignment1/two_layer_net.ipynb  \n",
            "collectSubmission.sh  README.md\t\t       start_ipython_osx.sh\n",
            "cs231n\t\t      requirements_backup.txt  svm.ipynb\n",
            "features.ipynb\t      requirements.txt\t       two_layer_net.ipynb\n",
            "frameworkpython       setup_googlecloud.sh\n",
            "knn.ipynb\t      softmax.ipynb\n",
            "--2019-02-21 11:45:57--  http://www.cs.toronto.edu/~kriz/cifar-10-python.tar.gz\n",
            "Resolving www.cs.toronto.edu (www.cs.toronto.edu)... 128.100.3.30\n",
            "Connecting to www.cs.toronto.edu (www.cs.toronto.edu)|128.100.3.30|:80... connected.\n",
            "HTTP request sent, awaiting response... 200 OK\n",
            "Length: 170498071 (163M) [application/x-gzip]\n",
            "Saving to: ‘cifar-10-python.tar.gz’\n",
            "\n",
            "cifar-10-python.tar 100%[===================>] 162.60M  5.16MB/s    in 29s     \n",
            "\n",
            "2019-02-21 11:46:26 (5.55 MB/s) - ‘cifar-10-python.tar.gz’ saved [170498071/170498071]\n",
            "\n",
            "cifar-10-batches-py/\n",
            "cifar-10-batches-py/data_batch_4\n",
            "cifar-10-batches-py/readme.html\n",
            "cifar-10-batches-py/test_batch\n",
            "cifar-10-batches-py/data_batch_3\n",
            "cifar-10-batches-py/batches.meta\n",
            "cifar-10-batches-py/data_batch_2\n",
            "cifar-10-batches-py/data_batch_5\n",
            "cifar-10-batches-py/data_batch_1\n",
            "cifar-10-batches-py  get_datasets.sh\n"
          ],
          "name": "stdout"
        }
      ]
    },
    {
      "metadata": {
        "id": "S2hwfpVrb0Fl",
        "colab_type": "code",
        "colab": {}
      },
      "cell_type": "code",
      "source": [
        "import os\n",
        "\n",
        "os.chdir('DeepLearningComputerVision-master/vered/assignment1')\n",
        "\n",
        "\n",
        "import random\n",
        "import numpy as np\n",
        "from cs231n.data_utils import load_CIFAR10\n",
        "import matplotlib.pyplot as plt\n",
        "\n",
        "from __future__ import print_function\n",
        "\n",
        "%matplotlib inline\n",
        "plt.rcParams['figure.figsize'] = (10.0, 8.0) # set default size of plots\n",
        "plt.rcParams['image.interpolation'] = 'nearest'\n",
        "plt.rcParams['image.cmap'] = 'gray'\n",
        "\n",
        "# for auto-reloading extenrnal modules\n",
        "# see http://stackoverflow.com/questions/1907993/autoreload-of-modules-in-ipython\n",
        "%load_ext autoreload\n",
        "%autoreload 2"
      ],
      "execution_count": 0,
      "outputs": []
    },
    {
      "metadata": {
        "id": "DsGWPhsvb0Fp",
        "colab_type": "code",
        "outputId": "531c9def-52d9-4fb9-b6e6-ec7e9a66691d",
        "colab": {
          "base_uri": "https://localhost:8080/",
          "height": 170
        }
      },
      "cell_type": "code",
      "source": [
        "!pwd\n",
        "def get_CIFAR10_data(num_training=49000, num_validation=1000, num_test=1000, num_dev=500):\n",
        "    \"\"\"\n",
        "    Load the CIFAR-10 dataset from disk and perform preprocessing to prepare\n",
        "    it for the linear classifier. These are the same steps as we used for the\n",
        "    SVM, but condensed to a single function.  \n",
        "    \"\"\"\n",
        "    # Load the raw CIFAR-10 data\n",
        "    cifar10_dir = 'cs231n/datasets/cifar-10-batches-py'\n",
        "    \n",
        "    # Cleaning up variables to prevent loading data multiple times (which may cause memory issue)\n",
        "    try:\n",
        "       del X_train, y_train\n",
        "       del X_test, y_test\n",
        "       print('Clear previously loaded data.')\n",
        "    except:\n",
        "       pass\n",
        "    \n",
        "    X_train, y_train, X_test, y_test = load_CIFAR10(cifar10_dir)\n",
        "    \n",
        "    # subsample the data\n",
        "    mask = list(range(num_training, num_training + num_validation))\n",
        "    X_val = X_train[mask]\n",
        "    y_val = y_train[mask]\n",
        "    mask = list(range(num_training))\n",
        "    X_train = X_train[mask]\n",
        "    y_train = y_train[mask]\n",
        "    mask = list(range(num_test))\n",
        "    X_test = X_test[mask]\n",
        "    y_test = y_test[mask]\n",
        "    mask = np.random.choice(num_training, num_dev, replace=False)\n",
        "    X_dev = X_train[mask]\n",
        "    y_dev = y_train[mask]\n",
        "    \n",
        "    # Preprocessing: reshape the image data into rows\n",
        "    X_train = np.reshape(X_train, (X_train.shape[0], -1))\n",
        "    X_val = np.reshape(X_val, (X_val.shape[0], -1))\n",
        "    X_test = np.reshape(X_test, (X_test.shape[0], -1))\n",
        "    X_dev = np.reshape(X_dev, (X_dev.shape[0], -1))\n",
        "    \n",
        "    # Normalize the data: subtract the mean image\n",
        "    mean_image = np.mean(X_train, axis = 0)\n",
        "    X_train -= mean_image\n",
        "    X_val -= mean_image\n",
        "    X_test -= mean_image\n",
        "    X_dev -= mean_image\n",
        "    \n",
        "    # add bias dimension and transform into columns\n",
        "    X_train = np.hstack([X_train, np.ones((X_train.shape[0], 1))])\n",
        "    X_val = np.hstack([X_val, np.ones((X_val.shape[0], 1))])\n",
        "    X_test = np.hstack([X_test, np.ones((X_test.shape[0], 1))])\n",
        "    X_dev = np.hstack([X_dev, np.ones((X_dev.shape[0], 1))])\n",
        "    \n",
        "    return X_train, y_train, X_val, y_val, X_test, y_test, X_dev, y_dev\n",
        "\n",
        "\n",
        "# Invoke the above function to get our data.\n",
        "X_train, y_train, X_val, y_val, X_test, y_test, X_dev, y_dev = get_CIFAR10_data()\n",
        "print('Train data shape: ', X_train.shape)\n",
        "print('Train labels shape: ', y_train.shape)\n",
        "print('Validation data shape: ', X_val.shape)\n",
        "print('Validation labels shape: ', y_val.shape)\n",
        "print('Test data shape: ', X_test.shape)\n",
        "print('Test labels shape: ', y_test.shape)\n",
        "print('dev data shape: ', X_dev.shape)\n",
        "print('dev labels shape: ', y_dev.shape)"
      ],
      "execution_count": 0,
      "outputs": [
        {
          "output_type": "stream",
          "text": [
            "/content/DeepLearningComputerVision-master/vered/assignment1\n",
            "Train data shape:  (49000, 3073)\n",
            "Train labels shape:  (49000,)\n",
            "Validation data shape:  (1000, 3073)\n",
            "Validation labels shape:  (1000,)\n",
            "Test data shape:  (1000, 3073)\n",
            "Test labels shape:  (1000,)\n",
            "dev data shape:  (500, 3073)\n",
            "dev labels shape:  (500,)\n"
          ],
          "name": "stdout"
        }
      ]
    },
    {
      "metadata": {
        "id": "y_BClFnVb0Fs",
        "colab_type": "text"
      },
      "cell_type": "markdown",
      "source": [
        "## Softmax Classifier\n",
        "\n",
        "Your code for this section will all be written inside **cs231n/classifiers/softmax.py**. \n"
      ]
    },
    {
      "metadata": {
        "id": "wVH6JKMjb0Fu",
        "colab_type": "code",
        "outputId": "b24fa2e4-1aed-49a3-f902-0a30c25993a2",
        "colab": {
          "base_uri": "https://localhost:8080/",
          "height": 51
        }
      },
      "cell_type": "code",
      "source": [
        "# First implement the naive softmax loss function with nested loops.\n",
        "# Open the file cs231n/classifiers/softmax.py and implement the\n",
        "# softmax_loss_naive function.\n",
        "\n",
        "from cs231n.classifiers.softmax import softmax_loss_naive\n",
        "import time\n",
        "\n",
        "# Generate a random softmax weight matrix and use it to compute the loss.\n",
        "W = np.random.randn(3073, 10) * 0.0001\n",
        "loss, grad = softmax_loss_naive(W, X_dev, y_dev, 0.0)\n",
        "\n",
        "# As a rough sanity check, our loss should be something close to -log(0.1).\n",
        "print('loss: %f' % loss)\n",
        "print('sanity check: %f' % (-np.log(0.1)))"
      ],
      "execution_count": 0,
      "outputs": [
        {
          "output_type": "stream",
          "text": [
            "loss: 0.000000\n",
            "sanity check: 2.302585\n"
          ],
          "name": "stdout"
        }
      ]
    },
    {
      "metadata": {
        "id": "fIqVW-n1b0Fx",
        "colab_type": "text"
      },
      "cell_type": "markdown",
      "source": [
        "## Inline Question 1:\n",
        "Why do we expect our loss to be close to -log(0.1)? Explain briefly.**\n",
        "\n",
        "**Your answer:** *Fill this in*\n"
      ]
    },
    {
      "metadata": {
        "id": "hfBXUmW3b0Fy",
        "colab_type": "code",
        "outputId": "6418621b-0d93-4f54-d8e8-a053de8a3365",
        "colab": {
          "base_uri": "https://localhost:8080/",
          "height": 357
        }
      },
      "cell_type": "code",
      "source": [
        "# Complete the implementation of softmax_loss_naive and implement a (naive)\n",
        "# version of the gradient that uses nested loops.\n",
        "loss, grad = softmax_loss_naive(W, X_dev, y_dev, 0.0)\n",
        "\n",
        "# As we did for the SVM, use numeric gradient checking as a debugging tool.\n",
        "# The numeric gradient should be close to the analytic gradient.\n",
        "from cs231n.gradient_check import grad_check_sparse\n",
        "f = lambda w: softmax_loss_naive(w, X_dev, y_dev, 0.0)[0]\n",
        "grad_numerical = grad_check_sparse(f, W, grad, 10)\n",
        "\n",
        "# similar to SVM case, do another gradient check with regularization\n",
        "loss, grad = softmax_loss_naive(W, X_dev, y_dev, 5e1)\n",
        "f = lambda w: softmax_loss_naive(w, X_dev, y_dev, 5e1)[0]\n",
        "grad_numerical = grad_check_sparse(f, W, grad, 10)"
      ],
      "execution_count": 0,
      "outputs": [
        {
          "output_type": "stream",
          "text": [
            "numerical: 1.234109 analytic: 1.234109, relative error: 3.679450e-08\n",
            "numerical: -1.941095 analytic: -1.941095, relative error: 2.141834e-08\n",
            "numerical: 0.919906 analytic: 0.919906, relative error: 1.607460e-08\n",
            "numerical: 0.621354 analytic: 0.621354, relative error: 2.938106e-08\n",
            "numerical: -1.825853 analytic: -1.825854, relative error: 1.645559e-08\n",
            "numerical: -1.783613 analytic: -1.783613, relative error: 4.706079e-09\n",
            "numerical: 2.052505 analytic: 2.052505, relative error: 2.063095e-08\n",
            "numerical: 1.124439 analytic: 1.124439, relative error: 6.359735e-08\n",
            "numerical: 0.978288 analytic: 0.978288, relative error: 4.826766e-08\n",
            "numerical: 2.217511 analytic: 2.217511, relative error: 8.583390e-09\n",
            "numerical: 0.241489 analytic: 0.241489, relative error: 2.340950e-07\n",
            "numerical: -0.038528 analytic: -0.038528, relative error: 9.881612e-08\n",
            "numerical: -1.195538 analytic: -1.195539, relative error: 5.074711e-08\n",
            "numerical: -0.460104 analytic: -0.460104, relative error: 8.043179e-08\n",
            "numerical: 1.484200 analytic: 1.484200, relative error: 1.239751e-08\n",
            "numerical: 0.058425 analytic: 0.058425, relative error: 8.770828e-07\n",
            "numerical: 0.951042 analytic: 0.951042, relative error: 2.902209e-08\n",
            "numerical: -0.308985 analytic: -0.308985, relative error: 2.332206e-07\n",
            "numerical: 0.156293 analytic: 0.156293, relative error: 5.939918e-07\n",
            "numerical: -0.066793 analytic: -0.066793, relative error: 9.713343e-07\n"
          ],
          "name": "stdout"
        }
      ]
    },
    {
      "metadata": {
        "id": "AUcRLKhsyunc",
        "colab_type": "text"
      },
      "cell_type": "markdown",
      "source": [
        ""
      ]
    },
    {
      "metadata": {
        "id": "oYhPNr2-b0F1",
        "colab_type": "code",
        "outputId": "e8869e4c-8c6e-4e1f-e064-3749bb8f47b6",
        "colab": {
          "base_uri": "https://localhost:8080/",
          "height": 85
        }
      },
      "cell_type": "code",
      "source": [
        "# Now that we have a naive implementation of the softmax loss function and its gradient,\n",
        "# implement a vectorized version in softmax_loss_vectorized.\n",
        "# The two versions should compute the same results, but the vectorized version should be\n",
        "# much faster.\n",
        "tic = time.time()\n",
        "loss_naive, grad_naive = softmax_loss_naive(W, X_dev, y_dev, 0.000005)\n",
        "toc = time.time()\n",
        "print('naive loss: %e computed in %fs' % (loss_naive, toc - tic))\n",
        "\n",
        "from cs231n.classifiers.softmax import softmax_loss_vectorized\n",
        "tic = time.time()\n",
        "loss_vectorized, grad_vectorized = softmax_loss_vectorized(W, X_dev, y_dev, 0.000005)\n",
        "toc = time.time()\n",
        "print('vectorized loss: %e computed in %fs' % (loss_vectorized, toc - tic))\n",
        "\n",
        "# As we did for the SVM, we use the Frobenius norm to compare the two versions\n",
        "# of the gradient.\n",
        "grad_difference = np.linalg.norm(grad_naive - grad_vectorized, ord='fro')\n",
        "print('Loss difference: %f' % np.abs(loss_naive - loss_vectorized))\n",
        "print('Gradient difference: %f' % grad_difference)"
      ],
      "execution_count": 0,
      "outputs": [
        {
          "output_type": "stream",
          "text": [
            "naive loss: 2.346954e+00 computed in 0.164437s\n",
            "vectorized loss: 2.346954e+00 computed in 0.014862s\n",
            "Loss difference: 0.000000\n",
            "Gradient difference: 0.000000\n"
          ],
          "name": "stdout"
        }
      ]
    },
    {
      "metadata": {
        "id": "lWkF5NJ0b0F4",
        "colab_type": "code",
        "outputId": "9077808c-41e2-4695-dd2b-228e32c62fab",
        "colab": {
          "base_uri": "https://localhost:8080/",
          "height": 127
        }
      },
      "cell_type": "code",
      "source": [
        "# Use the validation set to tune hyperparameters (regularization strength and\n",
        "# learning rate). You should experiment with different ranges for the learning\n",
        "# rates and regularization strengths; if you are careful you should be able to\n",
        "# get a classification accuracy of over 0.35 on the validation set.\n",
        "from cs231n.classifiers import Softmax\n",
        "results = {}\n",
        "best_val = -1\n",
        "best_softmax = None\n",
        "learning_rates = [1e-7, 5e-7]\n",
        "regularization_strengths = [2.5e4, 5e4]\n",
        "\n",
        "lrs = [1e-7, 5e-7]\n",
        "regs = [2.5e4, 5e4]\n",
        "\n",
        "for lr in lrs:\n",
        "  for reg in regs:\n",
        "    classifier = Softmax()\n",
        "    classifier.train(X_train, y_train, lr, reg, 1000)\n",
        "    \n",
        "    y_pred_train = classifier.predict(X_train)\n",
        "    accuracy_train = np.mean(y_pred_train == y_train)\n",
        "    \n",
        "    y_pred_val = classifier.predict(X_val)\n",
        "    accuracy_val = np.mean(y_pred_val == y_val)\n",
        "    \n",
        "    results[(lr, reg)] = accuracy_train, accuracy_val\n",
        "    \n",
        "    if best_val < accuracy_val:\n",
        "      best_val = accuracy_val\n",
        "      best_softmax = classifier\n",
        "    \n",
        "\n",
        "################################################################################\n",
        "# TODO:                                                                        #\n",
        "# Use the validation set to set the learning rate and regularization strength. #\n",
        "# This should be identical to the validation that you did for the SVM; save    #\n",
        "# the best trained softmax classifer in best_softmax.                          #\n",
        "################################################################################\n",
        "pass\n",
        "################################################################################\n",
        "#                              END OF YOUR CODE                                #\n",
        "################################################################################\n",
        "    \n",
        "# Print out results.\n",
        "for lr, reg in sorted(results):\n",
        "    train_accuracy, val_accuracy = results[(lr, reg)]\n",
        "    print('lr %e reg %e train accuracy: %f val accuracy: %f' % (\n",
        "                lr, reg, train_accuracy, val_accuracy))\n",
        "    \n",
        "print('best validation accuracy achieved during cross-validation: %f' % best_val)"
      ],
      "execution_count": 0,
      "outputs": [
        {
          "output_type": "stream",
          "text": [
            "lr 1.000000e-07 reg 2.500000e+04 train accuracy: 0.331429 val accuracy: 0.347000\n",
            "lr 1.000000e-07 reg 5.000000e+04 train accuracy: 0.309204 val accuracy: 0.321000\n",
            "lr 5.000000e-07 reg 2.500000e+04 train accuracy: 0.325163 val accuracy: 0.335000\n",
            "lr 5.000000e-07 reg 5.000000e+04 train accuracy: 0.304653 val accuracy: 0.311000\n",
            "best validation accuracy achieved during cross-validation: 0.347000\n"
          ],
          "name": "stdout"
        }
      ]
    },
    {
      "metadata": {
        "id": "NHCeS9orb0F7",
        "colab_type": "code",
        "outputId": "ff0f9a27-b504-4f2f-f68f-82e6f1658af9",
        "colab": {
          "base_uri": "https://localhost:8080/",
          "height": 34
        }
      },
      "cell_type": "code",
      "source": [
        "# evaluate on test set\n",
        "# Evaluate the best softmax on test set\n",
        "y_test_pred = best_softmax.predict(X_test)\n",
        "test_accuracy = np.mean(y_test == y_test_pred)\n",
        "print('softmax on raw pixels final test set accuracy: %f' % (test_accuracy, ))"
      ],
      "execution_count": 0,
      "outputs": [
        {
          "output_type": "stream",
          "text": [
            "softmax on raw pixels final test set accuracy: 0.342000\n"
          ],
          "name": "stdout"
        }
      ]
    },
    {
      "metadata": {
        "id": "BDhXnXm1b0GA",
        "colab_type": "code",
        "outputId": "f314d33f-4d51-4796-c941-e63926870f66",
        "colab": {
          "base_uri": "https://localhost:8080/",
          "height": 396
        }
      },
      "cell_type": "code",
      "source": [
        "# Visualize the learned weights for each class\n",
        "w = best_softmax.W[:-1,:] # strip out the bias\n",
        "w = w.reshape(32, 32, 3, 10)\n",
        "\n",
        "w_min, w_max = np.min(w), np.max(w)\n",
        "\n",
        "classes = ['plane', 'car', 'bird', 'cat', 'deer', 'dog', 'frog', 'horse', 'ship', 'truck']\n",
        "for i in range(10):\n",
        "    plt.subplot(2, 5, i + 1)\n",
        "    \n",
        "    # Rescale the weights to be between 0 and 255\n",
        "    wimg = 255.0 * (w[:, :, :, i].squeeze() - w_min) / (w_max - w_min)\n",
        "    plt.imshow(wimg.astype('uint8'))\n",
        "    plt.axis('off')\n",
        "    plt.title(classes[i])"
      ],
      "execution_count": 0,
      "outputs": [
        {
          "output_type": "display_data",
          "data": {
            "image/png": "[encoded data removed]",
            "text/plain": [
              "<Figure size 720x576 with 10 Axes>"
            ]
          },
          "metadata": {
            "tags": []
          }
        }
      ]
    }
  ]
}